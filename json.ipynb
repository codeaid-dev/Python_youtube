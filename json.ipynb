{
 "cells": [
  {
   "cell_type": "code",
   "execution_count": null,
   "metadata": {},
   "outputs": [],
   "source": [
    "import json\n",
    "\n",
    "meal = {\n",
    "    'breakfast':{\n",
    "        'hours':'7:30',\n",
    "        'menus':['toast','bacon egg','coffee']\n",
    "    },\n",
    "    'lunch':{\n",
    "        'hours':'12:00',\n",
    "        'menus':['lunch box','oolong tea']\n",
    "    },\n",
    "    'dinner':{\n",
    "        'hours':'18:30',\n",
    "        'menus':['salad','curry','nan']\n",
    "    }\n",
    "}\n",
    "#out = json.dumps(meal)\n",
    "with open('sample.json', 'wt') as fout:\n",
    "    json.dump(meal, fout)\n",
    "#    fout.write(out)"
   ]
  },
  {
   "cell_type": "code",
   "execution_count": null,
   "metadata": {},
   "outputs": [],
   "source": [
    "with open('sample.json', 'rt') as fin:\n",
    "#    result = json.loads(fin.read())\n",
    "    result = json.load(fin)\n",
    "print(result)\n",
    "print(result['lunch']['menus'])"
   ]
  }
 ],
 "metadata": {
  "kernelspec": {
   "display_name": "Python 3.10.3 64-bit ('3.10.3')",
   "language": "python",
   "name": "python3"
  },
  "language_info": {
   "codemirror_mode": {
    "name": "ipython",
    "version": 3
   },
   "file_extension": ".py",
   "mimetype": "text/x-python",
   "name": "python",
   "nbconvert_exporter": "python",
   "pygments_lexer": "ipython3",
   "version": "3.10.3"
  },
  "orig_nbformat": 4,
  "vscode": {
   "interpreter": {
    "hash": "ab64589ac9d6bd956e857448da5e411ff91b136249a71239f0da316d67e65b64"
   }
  }
 },
 "nbformat": 4,
 "nbformat_minor": 2
}
